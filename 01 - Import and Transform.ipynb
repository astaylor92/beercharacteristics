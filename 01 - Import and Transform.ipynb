{
 "cells": [
  {
   "cell_type": "markdown",
   "metadata": {
    "collapsed": false,
    "pycharm": {
     "name": "#%% md\n"
    }
   },
   "source": [
    "BEER CLASSIFICATION PROJECT\n",
    "\n",
    "# Notebook 1 - Data Import and Transform\n",
    "\n",
    "This notebook will be used to import the data needed for the beer classification project. I expect that we'll also need to do some basic preliminary summaries in order to determine if we need to transform the data (check for nulls, potentially edit the beer type labels, etc.)"
   ]
  },
  {
   "cell_type": "code",
   "execution_count": 1,
   "metadata": {
    "collapsed": false,
    "pycharm": {
     "name": "#%%\n"
    }
   },
   "outputs": [],
   "source": [
    "import pandas as pd\n",
    "import numpy as np\n",
    "import matplotlib.pyplot as plt\n",
    "from matplotlib.colors import rgb2hex\n",
    "import seaborn as sns"
   ]
  },
  {
   "cell_type": "code",
   "execution_count": 2,
   "metadata": {},
   "outputs": [],
   "source": [
    "sns.set_style(\"white\")\n",
    "sns.set_palette(\"Blues\")\n",
    "main_cmap = sns.color_palette(\"ch:start=.2,rot=-.3\", as_cmap=True)\n",
    "main_color = main_cmap(0.75)\n",
    "main_color = rgb2hex(main_color)"
   ]
  },
  {
   "cell_type": "markdown",
   "metadata": {
    "collapsed": false,
    "pycharm": {
     "name": "#%% md\n"
    }
   },
   "source": [
    "# Import\n",
    "\n",
    "Read in the raw beer data. The data came from kaggle [at this link](https://www.kaggle.com/datasets/ruthgn/beer-profile-and-ratings-data-set)"
   ]
  },
  {
   "cell_type": "code",
   "execution_count": 3,
   "metadata": {
    "collapsed": false,
    "pycharm": {
     "name": "#%%\n"
    }
   },
   "outputs": [
    {
     "name": "stdout",
     "output_type": "stream",
     "text": [
      "<class 'pandas.core.frame.DataFrame'>\n",
      "RangeIndex: 3197 entries, 0 to 3196\n",
      "Data columns (total 25 columns):\n",
      " #   Column             Non-Null Count  Dtype  \n",
      "---  ------             --------------  -----  \n",
      " 0   Name               3197 non-null   object \n",
      " 1   Style              3197 non-null   object \n",
      " 2   Brewery            3197 non-null   object \n",
      " 3   Beer Name (Full)   3197 non-null   object \n",
      " 4   Description        3197 non-null   object \n",
      " 5   ABV                3197 non-null   float64\n",
      " 6   Min IBU            3197 non-null   int64  \n",
      " 7   Max IBU            3197 non-null   int64  \n",
      " 8   Astringency        3197 non-null   int64  \n",
      " 9   Body               3197 non-null   int64  \n",
      " 10  Alcohol            3197 non-null   int64  \n",
      " 11  Bitter             3197 non-null   int64  \n",
      " 12  Sweet              3197 non-null   int64  \n",
      " 13  Sour               3197 non-null   int64  \n",
      " 14  Salty              3197 non-null   int64  \n",
      " 15  Fruits             3197 non-null   int64  \n",
      " 16  Hoppy              3197 non-null   int64  \n",
      " 17  Spices             3197 non-null   int64  \n",
      " 18  Malty              3197 non-null   int64  \n",
      " 19  review_aroma       3197 non-null   float64\n",
      " 20  review_appearance  3197 non-null   float64\n",
      " 21  review_palate      3197 non-null   float64\n",
      " 22  review_taste       3197 non-null   float64\n",
      " 23  review_overall     3197 non-null   float64\n",
      " 24  number_of_reviews  3197 non-null   int64  \n",
      "dtypes: float64(6), int64(14), object(5)\n",
      "memory usage: 624.5+ KB\n",
      "None\n"
     ]
    },
    {
     "data": {
      "text/html": [
       "<div>\n",
       "<style scoped>\n",
       "    .dataframe tbody tr th:only-of-type {\n",
       "        vertical-align: middle;\n",
       "    }\n",
       "\n",
       "    .dataframe tbody tr th {\n",
       "        vertical-align: top;\n",
       "    }\n",
       "\n",
       "    .dataframe thead th {\n",
       "        text-align: right;\n",
       "    }\n",
       "</style>\n",
       "<table border=\"1\" class=\"dataframe\">\n",
       "  <thead>\n",
       "    <tr style=\"text-align: right;\">\n",
       "      <th></th>\n",
       "      <th>Name</th>\n",
       "      <th>Style</th>\n",
       "      <th>Brewery</th>\n",
       "      <th>Beer Name (Full)</th>\n",
       "      <th>Description</th>\n",
       "      <th>ABV</th>\n",
       "      <th>Min IBU</th>\n",
       "      <th>Max IBU</th>\n",
       "      <th>Astringency</th>\n",
       "      <th>Body</th>\n",
       "      <th>...</th>\n",
       "      <th>Fruits</th>\n",
       "      <th>Hoppy</th>\n",
       "      <th>Spices</th>\n",
       "      <th>Malty</th>\n",
       "      <th>review_aroma</th>\n",
       "      <th>review_appearance</th>\n",
       "      <th>review_palate</th>\n",
       "      <th>review_taste</th>\n",
       "      <th>review_overall</th>\n",
       "      <th>number_of_reviews</th>\n",
       "    </tr>\n",
       "  </thead>\n",
       "  <tbody>\n",
       "    <tr>\n",
       "      <th>0</th>\n",
       "      <td>Amber</td>\n",
       "      <td>Altbier</td>\n",
       "      <td>Alaskan Brewing Co.</td>\n",
       "      <td>Alaskan Brewing Co. Alaskan Amber</td>\n",
       "      <td>Notes:Richly malty and long on the palate, wit...</td>\n",
       "      <td>5.3</td>\n",
       "      <td>25</td>\n",
       "      <td>50</td>\n",
       "      <td>13</td>\n",
       "      <td>32</td>\n",
       "      <td>...</td>\n",
       "      <td>33</td>\n",
       "      <td>57</td>\n",
       "      <td>8</td>\n",
       "      <td>111</td>\n",
       "      <td>3.498994</td>\n",
       "      <td>3.636821</td>\n",
       "      <td>3.556338</td>\n",
       "      <td>3.643863</td>\n",
       "      <td>3.847082</td>\n",
       "      <td>497</td>\n",
       "    </tr>\n",
       "    <tr>\n",
       "      <th>1</th>\n",
       "      <td>Double Bag</td>\n",
       "      <td>Altbier</td>\n",
       "      <td>Long Trail Brewing Co.</td>\n",
       "      <td>Long Trail Brewing Co. Double Bag</td>\n",
       "      <td>Notes:This malty, full-bodied double alt is al...</td>\n",
       "      <td>7.2</td>\n",
       "      <td>25</td>\n",
       "      <td>50</td>\n",
       "      <td>12</td>\n",
       "      <td>57</td>\n",
       "      <td>...</td>\n",
       "      <td>24</td>\n",
       "      <td>35</td>\n",
       "      <td>12</td>\n",
       "      <td>84</td>\n",
       "      <td>3.798337</td>\n",
       "      <td>3.846154</td>\n",
       "      <td>3.904366</td>\n",
       "      <td>4.024948</td>\n",
       "      <td>4.034304</td>\n",
       "      <td>481</td>\n",
       "    </tr>\n",
       "    <tr>\n",
       "      <th>2</th>\n",
       "      <td>Long Trail Ale</td>\n",
       "      <td>Altbier</td>\n",
       "      <td>Long Trail Brewing Co.</td>\n",
       "      <td>Long Trail Brewing Co. Long Trail Ale</td>\n",
       "      <td>Notes:Long Trail Ale is a full-bodied amber al...</td>\n",
       "      <td>5.0</td>\n",
       "      <td>25</td>\n",
       "      <td>50</td>\n",
       "      <td>14</td>\n",
       "      <td>37</td>\n",
       "      <td>...</td>\n",
       "      <td>10</td>\n",
       "      <td>54</td>\n",
       "      <td>4</td>\n",
       "      <td>62</td>\n",
       "      <td>3.409814</td>\n",
       "      <td>3.667109</td>\n",
       "      <td>3.600796</td>\n",
       "      <td>3.631300</td>\n",
       "      <td>3.830239</td>\n",
       "      <td>377</td>\n",
       "    </tr>\n",
       "    <tr>\n",
       "      <th>3</th>\n",
       "      <td>Doppelsticke</td>\n",
       "      <td>Altbier</td>\n",
       "      <td>Uerige Obergärige Hausbrauerei GmbH / Zum Uerige</td>\n",
       "      <td>Uerige Obergärige Hausbrauerei GmbH / Zum Ueri...</td>\n",
       "      <td>Notes:</td>\n",
       "      <td>8.5</td>\n",
       "      <td>25</td>\n",
       "      <td>50</td>\n",
       "      <td>13</td>\n",
       "      <td>55</td>\n",
       "      <td>...</td>\n",
       "      <td>49</td>\n",
       "      <td>40</td>\n",
       "      <td>16</td>\n",
       "      <td>119</td>\n",
       "      <td>4.148098</td>\n",
       "      <td>4.033967</td>\n",
       "      <td>4.150815</td>\n",
       "      <td>4.205163</td>\n",
       "      <td>4.005435</td>\n",
       "      <td>368</td>\n",
       "    </tr>\n",
       "    <tr>\n",
       "      <th>4</th>\n",
       "      <td>Sleigh'r Dark Doüble Alt Ale</td>\n",
       "      <td>Altbier</td>\n",
       "      <td>Ninkasi Brewing Company</td>\n",
       "      <td>Ninkasi Brewing Company Sleigh'r Dark Doüble A...</td>\n",
       "      <td>Notes:Called 'Dark Double Alt' on the label.Se...</td>\n",
       "      <td>7.2</td>\n",
       "      <td>25</td>\n",
       "      <td>50</td>\n",
       "      <td>25</td>\n",
       "      <td>51</td>\n",
       "      <td>...</td>\n",
       "      <td>11</td>\n",
       "      <td>51</td>\n",
       "      <td>20</td>\n",
       "      <td>95</td>\n",
       "      <td>3.625000</td>\n",
       "      <td>3.973958</td>\n",
       "      <td>3.734375</td>\n",
       "      <td>3.765625</td>\n",
       "      <td>3.817708</td>\n",
       "      <td>96</td>\n",
       "    </tr>\n",
       "  </tbody>\n",
       "</table>\n",
       "<p>5 rows × 25 columns</p>\n",
       "</div>"
      ],
      "text/plain": [
       "                           Name    Style  \\\n",
       "0                         Amber  Altbier   \n",
       "1                    Double Bag  Altbier   \n",
       "2                Long Trail Ale  Altbier   \n",
       "3                  Doppelsticke  Altbier   \n",
       "4  Sleigh'r Dark Doüble Alt Ale  Altbier   \n",
       "\n",
       "                                            Brewery  \\\n",
       "0                               Alaskan Brewing Co.   \n",
       "1                            Long Trail Brewing Co.   \n",
       "2                            Long Trail Brewing Co.   \n",
       "3  Uerige Obergärige Hausbrauerei GmbH / Zum Uerige   \n",
       "4                           Ninkasi Brewing Company   \n",
       "\n",
       "                                    Beer Name (Full)  \\\n",
       "0                  Alaskan Brewing Co. Alaskan Amber   \n",
       "1                  Long Trail Brewing Co. Double Bag   \n",
       "2              Long Trail Brewing Co. Long Trail Ale   \n",
       "3  Uerige Obergärige Hausbrauerei GmbH / Zum Ueri...   \n",
       "4  Ninkasi Brewing Company Sleigh'r Dark Doüble A...   \n",
       "\n",
       "                                         Description  ABV  Min IBU  Max IBU  \\\n",
       "0  Notes:Richly malty and long on the palate, wit...  5.3       25       50   \n",
       "1  Notes:This malty, full-bodied double alt is al...  7.2       25       50   \n",
       "2  Notes:Long Trail Ale is a full-bodied amber al...  5.0       25       50   \n",
       "3                                             Notes:  8.5       25       50   \n",
       "4  Notes:Called 'Dark Double Alt' on the label.Se...  7.2       25       50   \n",
       "\n",
       "   Astringency  Body  ...  Fruits  Hoppy  Spices  Malty  review_aroma  \\\n",
       "0           13    32  ...      33     57       8    111      3.498994   \n",
       "1           12    57  ...      24     35      12     84      3.798337   \n",
       "2           14    37  ...      10     54       4     62      3.409814   \n",
       "3           13    55  ...      49     40      16    119      4.148098   \n",
       "4           25    51  ...      11     51      20     95      3.625000   \n",
       "\n",
       "   review_appearance  review_palate  review_taste  review_overall  \\\n",
       "0           3.636821       3.556338      3.643863        3.847082   \n",
       "1           3.846154       3.904366      4.024948        4.034304   \n",
       "2           3.667109       3.600796      3.631300        3.830239   \n",
       "3           4.033967       4.150815      4.205163        4.005435   \n",
       "4           3.973958       3.734375      3.765625        3.817708   \n",
       "\n",
       "   number_of_reviews  \n",
       "0                497  \n",
       "1                481  \n",
       "2                377  \n",
       "3                368  \n",
       "4                 96  \n",
       "\n",
       "[5 rows x 25 columns]"
      ]
     },
     "execution_count": 3,
     "metadata": {},
     "output_type": "execute_result"
    }
   ],
   "source": [
    "df = pd.read_csv('./data/raw/beer_profile_and_ratings.csv')\n",
    "\n",
    "print(df.info())\n",
    "df.head()"
   ]
  },
  {
   "cell_type": "markdown",
   "metadata": {
    "collapsed": false,
    "pycharm": {
     "name": "#%% md\n"
    }
   },
   "source": [
    "We can see from the summary that all fields have no nulls. We have can break the fields into a few categories:\n",
    "\n",
    "* Metadata fields - the name, description, and brewery of the beer\n",
    "* Dependent variable field - Style (some variation of which will be our dependent variable)\n",
    "* Feature fields - float and integer fields which describe the beer (e.g. Sour)\n",
    "* Review fields - a few fields related to reviews (unused for this exercise)"
   ]
  },
  {
   "cell_type": "markdown",
   "metadata": {
    "collapsed": false,
    "pycharm": {
     "name": "#%% md\n"
    }
   },
   "source": [
    "# Preliminary Summaries"
   ]
  },
  {
   "cell_type": "markdown",
   "metadata": {
    "collapsed": false,
    "pycharm": {
     "name": "#%% md\n"
    }
   },
   "source": [
    "## Column Summaries\n",
    "In this section, we'll pull some summaries about the fields. Let's break this into summaries of all fields at once, summaries of numerical columns, and summaries of the 'style' categorical column."
   ]
  },
  {
   "cell_type": "markdown",
   "metadata": {
    "collapsed": false,
    "pycharm": {
     "name": "#%% md\n"
    }
   },
   "source": [
    "### Overall\n",
    "\n",
    "**Questions**\n",
    "* How many nulls do the columns have?\n",
    "* How many unique values are in each column?"
   ]
  },
  {
   "cell_type": "code",
   "execution_count": 4,
   "metadata": {
    "collapsed": false,
    "pycharm": {
     "name": "#%%\n"
    }
   },
   "outputs": [
    {
     "data": {
      "text/plain": [
       "Name                 0\n",
       "Style                0\n",
       "Brewery              0\n",
       "Beer Name (Full)     0\n",
       "Description          0\n",
       "ABV                  0\n",
       "Min IBU              0\n",
       "Max IBU              0\n",
       "Astringency          0\n",
       "Body                 0\n",
       "Alcohol              0\n",
       "Bitter               0\n",
       "Sweet                0\n",
       "Sour                 0\n",
       "Salty                0\n",
       "Fruits               0\n",
       "Hoppy                0\n",
       "Spices               0\n",
       "Malty                0\n",
       "review_aroma         0\n",
       "review_appearance    0\n",
       "review_palate        0\n",
       "review_taste         0\n",
       "review_overall       0\n",
       "number_of_reviews    0\n",
       "dtype: int64"
      ]
     },
     "execution_count": 4,
     "metadata": {},
     "output_type": "execute_result"
    }
   ],
   "source": [
    "df.isna().sum()"
   ]
  },
  {
   "cell_type": "code",
   "execution_count": 5,
   "metadata": {
    "collapsed": false,
    "pycharm": {
     "name": "#%%\n"
    }
   },
   "outputs": [
    {
     "data": {
      "text/plain": [
       "Name                 3066\n",
       "Style                 111\n",
       "Brewery               934\n",
       "Beer Name (Full)     3197\n",
       "Description          1841\n",
       "ABV                   194\n",
       "Min IBU                21\n",
       "Max IBU                25\n",
       "Astringency            66\n",
       "Body                  149\n",
       "Alcohol               104\n",
       "Bitter                133\n",
       "Sweet                 183\n",
       "Sour                  192\n",
       "Salty                  21\n",
       "Fruits                149\n",
       "Hoppy                 153\n",
       "Spices                138\n",
       "Malty                 196\n",
       "review_aroma         2326\n",
       "review_appearance    2257\n",
       "review_palate        2324\n",
       "review_taste         2356\n",
       "review_overall       2325\n",
       "number_of_reviews     811\n",
       "dtype: int64"
      ]
     },
     "execution_count": 5,
     "metadata": {},
     "output_type": "execute_result"
    }
   ],
   "source": [
    "df.nunique()"
   ]
  },
  {
   "cell_type": "markdown",
   "metadata": {
    "collapsed": false,
    "pycharm": {
     "name": "#%% md\n"
    }
   },
   "source": [
    "### Numerical Columns\n",
    "Univariate summaries of the numerical columns - this happens to include all of our potential features.\n",
    "\n",
    "**Questions**\n",
    "* What are the distributions of each feature?\n",
    "* Are there any outliers or skewness to pay attention to?"
   ]
  },
  {
   "cell_type": "code",
   "execution_count": 6,
   "metadata": {
    "collapsed": false,
    "pycharm": {
     "name": "#%%\n"
    }
   },
   "outputs": [
    {
     "data": {
      "text/html": [
       "<div>\n",
       "<style scoped>\n",
       "    .dataframe tbody tr th:only-of-type {\n",
       "        vertical-align: middle;\n",
       "    }\n",
       "\n",
       "    .dataframe tbody tr th {\n",
       "        vertical-align: top;\n",
       "    }\n",
       "\n",
       "    .dataframe thead th {\n",
       "        text-align: right;\n",
       "    }\n",
       "</style>\n",
       "<table border=\"1\" class=\"dataframe\">\n",
       "  <thead>\n",
       "    <tr style=\"text-align: right;\">\n",
       "      <th></th>\n",
       "      <th>ABV</th>\n",
       "      <th>Min IBU</th>\n",
       "      <th>Max IBU</th>\n",
       "      <th>Astringency</th>\n",
       "      <th>Body</th>\n",
       "      <th>Alcohol</th>\n",
       "      <th>Bitter</th>\n",
       "      <th>Sweet</th>\n",
       "      <th>Sour</th>\n",
       "      <th>Salty</th>\n",
       "      <th>Fruits</th>\n",
       "      <th>Hoppy</th>\n",
       "      <th>Spices</th>\n",
       "      <th>Malty</th>\n",
       "      <th>review_aroma</th>\n",
       "      <th>review_appearance</th>\n",
       "      <th>review_palate</th>\n",
       "      <th>review_taste</th>\n",
       "      <th>review_overall</th>\n",
       "      <th>number_of_reviews</th>\n",
       "    </tr>\n",
       "  </thead>\n",
       "  <tbody>\n",
       "    <tr>\n",
       "      <th>count</th>\n",
       "      <td>3197.000000</td>\n",
       "      <td>3197.000000</td>\n",
       "      <td>3197.000000</td>\n",
       "      <td>3197.000000</td>\n",
       "      <td>3197.000000</td>\n",
       "      <td>3197.000000</td>\n",
       "      <td>3197.000000</td>\n",
       "      <td>3197.000000</td>\n",
       "      <td>3197.000000</td>\n",
       "      <td>3197.000000</td>\n",
       "      <td>3197.000000</td>\n",
       "      <td>3197.000000</td>\n",
       "      <td>3197.000000</td>\n",
       "      <td>3197.000000</td>\n",
       "      <td>3197.000000</td>\n",
       "      <td>3197.000000</td>\n",
       "      <td>3197.000000</td>\n",
       "      <td>3197.000000</td>\n",
       "      <td>3197.000000</td>\n",
       "      <td>3197.000000</td>\n",
       "    </tr>\n",
       "    <tr>\n",
       "      <th>mean</th>\n",
       "      <td>6.526688</td>\n",
       "      <td>21.180482</td>\n",
       "      <td>38.986863</td>\n",
       "      <td>16.515796</td>\n",
       "      <td>46.129496</td>\n",
       "      <td>17.055990</td>\n",
       "      <td>36.364404</td>\n",
       "      <td>58.270879</td>\n",
       "      <td>33.145449</td>\n",
       "      <td>1.017204</td>\n",
       "      <td>38.529559</td>\n",
       "      <td>40.924617</td>\n",
       "      <td>18.345637</td>\n",
       "      <td>75.330935</td>\n",
       "      <td>3.638789</td>\n",
       "      <td>3.754393</td>\n",
       "      <td>3.660428</td>\n",
       "      <td>3.702496</td>\n",
       "      <td>3.747522</td>\n",
       "      <td>233.284955</td>\n",
       "    </tr>\n",
       "    <tr>\n",
       "      <th>std</th>\n",
       "      <td>2.546997</td>\n",
       "      <td>13.242242</td>\n",
       "      <td>21.355281</td>\n",
       "      <td>10.410661</td>\n",
       "      <td>25.947842</td>\n",
       "      <td>17.331334</td>\n",
       "      <td>25.791152</td>\n",
       "      <td>34.281310</td>\n",
       "      <td>35.780172</td>\n",
       "      <td>2.132651</td>\n",
       "      <td>32.296646</td>\n",
       "      <td>30.403641</td>\n",
       "      <td>23.756582</td>\n",
       "      <td>39.909338</td>\n",
       "      <td>0.503209</td>\n",
       "      <td>0.403416</td>\n",
       "      <td>0.449937</td>\n",
       "      <td>0.510361</td>\n",
       "      <td>0.444288</td>\n",
       "      <td>361.811847</td>\n",
       "    </tr>\n",
       "    <tr>\n",
       "      <th>min</th>\n",
       "      <td>0.000000</td>\n",
       "      <td>0.000000</td>\n",
       "      <td>0.000000</td>\n",
       "      <td>0.000000</td>\n",
       "      <td>0.000000</td>\n",
       "      <td>0.000000</td>\n",
       "      <td>0.000000</td>\n",
       "      <td>0.000000</td>\n",
       "      <td>0.000000</td>\n",
       "      <td>0.000000</td>\n",
       "      <td>0.000000</td>\n",
       "      <td>0.000000</td>\n",
       "      <td>0.000000</td>\n",
       "      <td>0.000000</td>\n",
       "      <td>1.509615</td>\n",
       "      <td>1.571429</td>\n",
       "      <td>1.285714</td>\n",
       "      <td>1.214286</td>\n",
       "      <td>1.136364</td>\n",
       "      <td>1.000000</td>\n",
       "    </tr>\n",
       "    <tr>\n",
       "      <th>25%</th>\n",
       "      <td>5.000000</td>\n",
       "      <td>15.000000</td>\n",
       "      <td>25.000000</td>\n",
       "      <td>9.000000</td>\n",
       "      <td>29.000000</td>\n",
       "      <td>6.000000</td>\n",
       "      <td>17.000000</td>\n",
       "      <td>33.000000</td>\n",
       "      <td>11.000000</td>\n",
       "      <td>0.000000</td>\n",
       "      <td>12.000000</td>\n",
       "      <td>18.000000</td>\n",
       "      <td>4.000000</td>\n",
       "      <td>45.000000</td>\n",
       "      <td>3.422559</td>\n",
       "      <td>3.604651</td>\n",
       "      <td>3.470021</td>\n",
       "      <td>3.500000</td>\n",
       "      <td>3.566667</td>\n",
       "      <td>23.000000</td>\n",
       "    </tr>\n",
       "    <tr>\n",
       "      <th>50%</th>\n",
       "      <td>6.000000</td>\n",
       "      <td>20.000000</td>\n",
       "      <td>35.000000</td>\n",
       "      <td>14.000000</td>\n",
       "      <td>40.000000</td>\n",
       "      <td>11.000000</td>\n",
       "      <td>31.000000</td>\n",
       "      <td>54.000000</td>\n",
       "      <td>22.000000</td>\n",
       "      <td>0.000000</td>\n",
       "      <td>29.000000</td>\n",
       "      <td>33.000000</td>\n",
       "      <td>10.000000</td>\n",
       "      <td>73.000000</td>\n",
       "      <td>3.720183</td>\n",
       "      <td>3.833333</td>\n",
       "      <td>3.741667</td>\n",
       "      <td>3.791667</td>\n",
       "      <td>3.830239</td>\n",
       "      <td>93.000000</td>\n",
       "    </tr>\n",
       "    <tr>\n",
       "      <th>75%</th>\n",
       "      <td>7.600000</td>\n",
       "      <td>25.000000</td>\n",
       "      <td>45.000000</td>\n",
       "      <td>21.000000</td>\n",
       "      <td>58.000000</td>\n",
       "      <td>22.000000</td>\n",
       "      <td>52.000000</td>\n",
       "      <td>77.000000</td>\n",
       "      <td>42.000000</td>\n",
       "      <td>1.000000</td>\n",
       "      <td>60.000000</td>\n",
       "      <td>56.000000</td>\n",
       "      <td>23.000000</td>\n",
       "      <td>103.000000</td>\n",
       "      <td>3.978000</td>\n",
       "      <td>4.000000</td>\n",
       "      <td>3.965587</td>\n",
       "      <td>4.033333</td>\n",
       "      <td>4.032847</td>\n",
       "      <td>284.000000</td>\n",
       "    </tr>\n",
       "    <tr>\n",
       "      <th>max</th>\n",
       "      <td>57.500000</td>\n",
       "      <td>65.000000</td>\n",
       "      <td>100.000000</td>\n",
       "      <td>81.000000</td>\n",
       "      <td>175.000000</td>\n",
       "      <td>139.000000</td>\n",
       "      <td>150.000000</td>\n",
       "      <td>263.000000</td>\n",
       "      <td>284.000000</td>\n",
       "      <td>48.000000</td>\n",
       "      <td>175.000000</td>\n",
       "      <td>172.000000</td>\n",
       "      <td>184.000000</td>\n",
       "      <td>239.000000</td>\n",
       "      <td>5.000000</td>\n",
       "      <td>4.666667</td>\n",
       "      <td>5.000000</td>\n",
       "      <td>5.000000</td>\n",
       "      <td>5.000000</td>\n",
       "      <td>3290.000000</td>\n",
       "    </tr>\n",
       "  </tbody>\n",
       "</table>\n",
       "</div>"
      ],
      "text/plain": [
       "               ABV      Min IBU      Max IBU  Astringency         Body  \\\n",
       "count  3197.000000  3197.000000  3197.000000  3197.000000  3197.000000   \n",
       "mean      6.526688    21.180482    38.986863    16.515796    46.129496   \n",
       "std       2.546997    13.242242    21.355281    10.410661    25.947842   \n",
       "min       0.000000     0.000000     0.000000     0.000000     0.000000   \n",
       "25%       5.000000    15.000000    25.000000     9.000000    29.000000   \n",
       "50%       6.000000    20.000000    35.000000    14.000000    40.000000   \n",
       "75%       7.600000    25.000000    45.000000    21.000000    58.000000   \n",
       "max      57.500000    65.000000   100.000000    81.000000   175.000000   \n",
       "\n",
       "           Alcohol       Bitter        Sweet         Sour        Salty  \\\n",
       "count  3197.000000  3197.000000  3197.000000  3197.000000  3197.000000   \n",
       "mean     17.055990    36.364404    58.270879    33.145449     1.017204   \n",
       "std      17.331334    25.791152    34.281310    35.780172     2.132651   \n",
       "min       0.000000     0.000000     0.000000     0.000000     0.000000   \n",
       "25%       6.000000    17.000000    33.000000    11.000000     0.000000   \n",
       "50%      11.000000    31.000000    54.000000    22.000000     0.000000   \n",
       "75%      22.000000    52.000000    77.000000    42.000000     1.000000   \n",
       "max     139.000000   150.000000   263.000000   284.000000    48.000000   \n",
       "\n",
       "            Fruits        Hoppy       Spices        Malty  review_aroma  \\\n",
       "count  3197.000000  3197.000000  3197.000000  3197.000000   3197.000000   \n",
       "mean     38.529559    40.924617    18.345637    75.330935      3.638789   \n",
       "std      32.296646    30.403641    23.756582    39.909338      0.503209   \n",
       "min       0.000000     0.000000     0.000000     0.000000      1.509615   \n",
       "25%      12.000000    18.000000     4.000000    45.000000      3.422559   \n",
       "50%      29.000000    33.000000    10.000000    73.000000      3.720183   \n",
       "75%      60.000000    56.000000    23.000000   103.000000      3.978000   \n",
       "max     175.000000   172.000000   184.000000   239.000000      5.000000   \n",
       "\n",
       "       review_appearance  review_palate  review_taste  review_overall  \\\n",
       "count        3197.000000    3197.000000   3197.000000     3197.000000   \n",
       "mean            3.754393       3.660428      3.702496        3.747522   \n",
       "std             0.403416       0.449937      0.510361        0.444288   \n",
       "min             1.571429       1.285714      1.214286        1.136364   \n",
       "25%             3.604651       3.470021      3.500000        3.566667   \n",
       "50%             3.833333       3.741667      3.791667        3.830239   \n",
       "75%             4.000000       3.965587      4.033333        4.032847   \n",
       "max             4.666667       5.000000      5.000000        5.000000   \n",
       "\n",
       "       number_of_reviews  \n",
       "count        3197.000000  \n",
       "mean          233.284955  \n",
       "std           361.811847  \n",
       "min             1.000000  \n",
       "25%            23.000000  \n",
       "50%            93.000000  \n",
       "75%           284.000000  \n",
       "max          3290.000000  "
      ]
     },
     "execution_count": 6,
     "metadata": {},
     "output_type": "execute_result"
    }
   ],
   "source": [
    "df.describe()"
   ]
  },
  {
   "cell_type": "code",
   "execution_count": 23,
   "metadata": {
    "collapsed": false,
    "pycharm": {
     "name": "#%%\n"
    }
   },
   "outputs": [
    {
     "data": {
      "image/png": "[encoded data removed]",
      "text/plain": [
       "<Figure size 864x576 with 16 Axes>"
      ]
     },
     "metadata": {},
     "output_type": "display_data"
    }
   ],
   "source": [
    "axes = df.hist(figsize=(12, 8), color=main_color)\n",
    "for ax_row in axes:\n",
    "    for ax in ax_row:\n",
    "        ax.grid(False)\n",
    "        ax.set_xlabel('Value Bucket')\n",
    "        ax.set_ylabel('Count')\n",
    "sns.despine()\n",
    "plt.tight_layout()\n",
    "plt.savefig('figures/histograms_predictors.png')"
   ]
  },
  {
   "cell_type": "code",
   "execution_count": 8,
   "metadata": {
    "collapsed": false,
    "pycharm": {
     "name": "#%%\n"
    }
   },
   "outputs": [
    {
     "data": {
      "image/png": "[encoded data removed]",
      "text/plain": [
       "<Figure size 864x576 with 20 Axes>"
      ]
     },
     "metadata": {},
     "output_type": "display_data"
    }
   ],
   "source": [
    "fig, ax = plt.subplots(5, 4, figsize=(12, 8))\n",
    "\n",
    "for ind, col in enumerate(df.select_dtypes(exclude='object').columns):\n",
    "    df.boxplot(column=col, ax=ax[ind // 4, ind%4], color=main_color)\n",
    "    ax[ind // 4, ind%4].set_title(col)\n",
    "    sns.despine()\n",
    "\n",
    "plt.tight_layout()\n",
    "plt.savefig('figures/boxplots_predictors.png')"
   ]
  },
  {
   "cell_type": "markdown",
   "metadata": {
    "collapsed": false,
    "pycharm": {
     "name": "#%% md\n"
    }
   },
   "source": [
    "We may do further outlier analysis based on modeling outputs, but from looking at this, only ABV seems to have outliers that appear to be extremely far away. We'll investigate and potentially remove those in the 'Transform' notebook section."
   ]
  },
  {
   "cell_type": "markdown",
   "metadata": {
    "collapsed": false,
    "pycharm": {
     "name": "#%% md\n"
    }
   },
   "source": [
    "### Categorical Summaries (DV Summaries)\n",
    "Univariate summary of the 'style' column"
   ]
  },
  {
   "cell_type": "code",
   "execution_count": 9,
   "metadata": {
    "collapsed": false,
    "pycharm": {
     "name": "#%%\n"
    }
   },
   "outputs": [
    {
     "data": {
      "text/plain": [
       "Lager - Adjunct                    45\n",
       "Lager - European Pale              43\n",
       "Wheat Beer - Hefeweizen            42\n",
       "Stout - Irish Dry                  42\n",
       "Lambic - Fruit                     42\n",
       "                                   ..\n",
       "Bière de Champagne / Bière Brut     8\n",
       "Lager - India Pale Lager (IPL)      6\n",
       "IPA - New England                   4\n",
       "Brett Beer                          3\n",
       "Sour - Gose                         3\n",
       "Name: Style, Length: 111, dtype: int64"
      ]
     },
     "execution_count": 9,
     "metadata": {},
     "output_type": "execute_result"
    }
   ],
   "source": [
    "df['Style'].value_counts()"
   ]
  },
  {
   "cell_type": "markdown",
   "metadata": {
    "collapsed": false,
    "pycharm": {
     "name": "#%% md\n"
    }
   },
   "source": [
    "We can see here that there are a *lot* of categories, many with a small amount of representation. Let's look into ways to transform this! At the very least, it looks like many of the beer styles are structured as \"{general style} - {specific style}\". Maybe we can split them can get fewer categories"
   ]
  },
  {
   "cell_type": "markdown",
   "metadata": {
    "collapsed": false,
    "pycharm": {
     "name": "#%% md\n"
    }
   },
   "source": [
    "# Transform\n",
    "\n",
    "Let's use this section to create a level 1 (general) and level 2 (specific) category field. We'll also make a few other minor adjustments (e.g. stylizing the fields all lowercase)."
   ]
  },
  {
   "cell_type": "markdown",
   "metadata": {
    "collapsed": false,
    "pycharm": {
     "name": "#%% md\n"
    }
   },
   "source": [
    "## Rename to lowercase, no spaces"
   ]
  },
  {
   "cell_type": "code",
   "execution_count": 10,
   "metadata": {
    "collapsed": false,
    "pycharm": {
     "name": "#%%\n"
    }
   },
   "outputs": [
    {
     "name": "stderr",
     "output_type": "stream",
     "text": [
      "/var/folders/7q/8z88_mwj3794m0rym_nqtk6m0000gn/T/ipykernel_17871/2194882167.py:1: FutureWarning: The default value of regex will change from True to False in a future version.\n",
      "  df.columns = df.columns.str.lower().str.replace(\" \", \"_\").str.replace(\"[()]\", \"\")\n"
     ]
    },
    {
     "data": {
      "text/plain": [
       "Index(['name', 'style', 'brewery', 'beer_name_full', 'description', 'abv',\n",
       "       'min_ibu', 'max_ibu', 'astringency', 'body', 'alcohol', 'bitter',\n",
       "       'sweet', 'sour', 'salty', 'fruits', 'hoppy', 'spices', 'malty',\n",
       "       'review_aroma', 'review_appearance', 'review_palate', 'review_taste',\n",
       "       'review_overall', 'number_of_reviews'],\n",
       "      dtype='object')"
      ]
     },
     "execution_count": 10,
     "metadata": {},
     "output_type": "execute_result"
    }
   ],
   "source": [
    "df.columns = df.columns.str.lower().str.replace(\" \", \"_\").str.replace(\"[()]\", \"\")\n",
    "df.columns"
   ]
  },
  {
   "cell_type": "markdown",
   "metadata": {
    "collapsed": false,
    "pycharm": {
     "name": "#%% md\n"
    }
   },
   "source": [
    "## Create l1/l2 categories\n",
    "Split the style column into two based on the hyphen"
   ]
  },
  {
   "cell_type": "code",
   "execution_count": 11,
   "metadata": {
    "collapsed": false,
    "pycharm": {
     "name": "#%%\n"
    }
   },
   "outputs": [],
   "source": [
    "df[['style_l1', 'style_l2']] = pd.DataFrame(df['style'].str.split(\" - \").tolist(), columns=['style_l1', 'style_l2'])"
   ]
  },
  {
   "cell_type": "code",
   "execution_count": 12,
   "metadata": {
    "collapsed": false,
    "pycharm": {
     "name": "#%%\n"
    }
   },
   "outputs": [
    {
     "data": {
      "text/plain": [
       "name                 3066\n",
       "style                 111\n",
       "brewery               934\n",
       "beer_name_full       3197\n",
       "description          1841\n",
       "abv                   194\n",
       "min_ibu                21\n",
       "max_ibu                25\n",
       "astringency            66\n",
       "body                  149\n",
       "alcohol               104\n",
       "bitter                133\n",
       "sweet                 183\n",
       "sour                  192\n",
       "salty                  21\n",
       "fruits                149\n",
       "hoppy                 153\n",
       "spices                138\n",
       "malty                 196\n",
       "review_aroma         2326\n",
       "review_appearance    2257\n",
       "review_palate        2324\n",
       "review_taste         2356\n",
       "review_overall       2325\n",
       "number_of_reviews     811\n",
       "style_l1               43\n",
       "style_l2               63\n",
       "dtype: int64"
      ]
     },
     "execution_count": 12,
     "metadata": {},
     "output_type": "execute_result"
    }
   ],
   "source": [
    "df.nunique()"
   ]
  },
  {
   "cell_type": "markdown",
   "metadata": {
    "collapsed": false,
    "pycharm": {
     "name": "#%% md\n"
    }
   },
   "source": [
    "It looks like this gives us 41 general categories - let's take a look and see if we need to condense any further."
   ]
  },
  {
   "cell_type": "code",
   "execution_count": 13,
   "metadata": {
    "collapsed": false,
    "pycharm": {
     "name": "#%%\n"
    }
   },
   "outputs": [
    {
     "data": {
      "image/png": "[encoded data removed]",
      "text/plain": [
       "<Figure size 864x576 with 1 Axes>"
      ]
     },
     "metadata": {},
     "output_type": "display_data"
    }
   ],
   "source": [
    "fig, ax = plt.subplots(figsize=(12, 8))\n",
    "sns.countplot(data=df, y='style_l1', color=main_color, order=df['style_l1'].value_counts().index)\n",
    "plt.title('Count of Beer by Style')\n",
    "plt.ylabel('Style')\n",
    "plt.xlabel('Count')\n",
    "plt.savefig('figures/count_styles.png')"
   ]
  },
  {
   "cell_type": "markdown",
   "metadata": {
    "collapsed": false,
    "pycharm": {
     "name": "#%% md\n"
    }
   },
   "source": [
    "These look pretty good - however, some of the categories have very few observations, which might lead to a challenge for classification. We'll just remove those for the purposes of this exercise. In reality, the business case would probably dictate what to do with these categories (resample, gather more data, etc.)"
   ]
  },
  {
   "cell_type": "markdown",
   "metadata": {
    "collapsed": false,
    "pycharm": {
     "name": "#%% md\n"
    }
   },
   "source": [
    "## Remove low count categories"
   ]
  },
  {
   "cell_type": "code",
   "execution_count": 14,
   "metadata": {
    "collapsed": false,
    "pycharm": {
     "name": "#%%\n"
    }
   },
   "outputs": [],
   "source": [
    "df = df[~df['style_l1'].isin(df['style_l1'].value_counts()[df['style_l1'].value_counts() <= 15].index.tolist())]"
   ]
  },
  {
   "cell_type": "code",
   "execution_count": 15,
   "metadata": {},
   "outputs": [
    {
     "data": {
      "image/png": "[encoded data removed]",
      "text/plain": [
       "<Figure size 864x576 with 1 Axes>"
      ]
     },
     "metadata": {},
     "output_type": "display_data"
    }
   ],
   "source": [
    "fig, ax = plt.subplots(figsize=(12, 8))\n",
    "sns.countplot(data=df, y='style_l1', color=main_color, order=df['style_l1'].value_counts().index)\n",
    "plt.title('Count of Beer by Style')\n",
    "plt.ylabel('Style')\n",
    "plt.xlabel('Count')\n",
    "plt.savefig('figures/count_styles_lowremoved.png')"
   ]
  },
  {
   "cell_type": "markdown",
   "metadata": {
    "collapsed": false,
    "pycharm": {
     "name": "#%% md\n"
    }
   },
   "source": [
    "## Slim down / remove 'meta' columns\n",
    "We mentioned a number of additional columns that aren't needed for the primary modeling. Let's move those into a different dataframe for reference as needed."
   ]
  },
  {
   "cell_type": "code",
   "execution_count": 16,
   "metadata": {
    "collapsed": false,
    "pycharm": {
     "name": "#%%\n"
    }
   },
   "outputs": [
    {
     "name": "stdout",
     "output_type": "stream",
     "text": [
      "<class 'pandas.core.frame.DataFrame'>\n",
      "Int64Index: 3172 entries, 0 to 3196\n",
      "Data columns (total 15 columns):\n",
      " #   Column       Non-Null Count  Dtype  \n",
      "---  ------       --------------  -----  \n",
      " 0   abv          3172 non-null   float64\n",
      " 1   min_ibu      3172 non-null   int64  \n",
      " 2   max_ibu      3172 non-null   int64  \n",
      " 3   astringency  3172 non-null   int64  \n",
      " 4   body         3172 non-null   int64  \n",
      " 5   alcohol      3172 non-null   int64  \n",
      " 6   bitter       3172 non-null   int64  \n",
      " 7   sweet        3172 non-null   int64  \n",
      " 8   sour         3172 non-null   int64  \n",
      " 9   salty        3172 non-null   int64  \n",
      " 10  fruits       3172 non-null   int64  \n",
      " 11  hoppy        3172 non-null   int64  \n",
      " 12  spices       3172 non-null   int64  \n",
      " 13  malty        3172 non-null   int64  \n",
      " 14  style_l1     3172 non-null   object \n",
      "dtypes: float64(1), int64(13), object(1)\n",
      "memory usage: 396.5+ KB\n"
     ]
    }
   ],
   "source": [
    "df_meta = df[['name', 'brewery', 'beer_name_full', 'description', 'style', 'style_l2', 'review_aroma', 'review_taste', 'review_appearance', 'review_palate', 'review_overall', 'number_of_reviews']]\n",
    "df = df.drop(['name', 'brewery', 'beer_name_full', 'description', 'style', 'style_l2', 'review_aroma', 'review_taste', 'review_appearance', 'review_palate', 'review_overall', 'number_of_reviews'], axis=1)\n",
    "df.info()"
   ]
  },
  {
   "cell_type": "code",
   "execution_count": 17,
   "metadata": {
    "collapsed": false,
    "pycharm": {
     "name": "#%%\n"
    }
   },
   "outputs": [
    {
     "name": "stdout",
     "output_type": "stream",
     "text": [
      "<class 'pandas.core.frame.DataFrame'>\n",
      "Int64Index: 3172 entries, 0 to 3196\n",
      "Data columns (total 12 columns):\n",
      " #   Column             Non-Null Count  Dtype  \n",
      "---  ------             --------------  -----  \n",
      " 0   name               3172 non-null   object \n",
      " 1   brewery            3172 non-null   object \n",
      " 2   beer_name_full     3172 non-null   object \n",
      " 3   description        3172 non-null   object \n",
      " 4   style              3172 non-null   object \n",
      " 5   style_l2           2519 non-null   object \n",
      " 6   review_aroma       3172 non-null   float64\n",
      " 7   review_taste       3172 non-null   float64\n",
      " 8   review_appearance  3172 non-null   float64\n",
      " 9   review_palate      3172 non-null   float64\n",
      " 10  review_overall     3172 non-null   float64\n",
      " 11  number_of_reviews  3172 non-null   int64  \n",
      "dtypes: float64(5), int64(1), object(6)\n",
      "memory usage: 322.2+ KB\n"
     ]
    }
   ],
   "source": [
    "df_meta.info()"
   ]
  },
  {
   "cell_type": "markdown",
   "metadata": {
    "collapsed": false,
    "pycharm": {
     "name": "#%% md\n"
    }
   },
   "source": [
    "## Remove outliers\n",
    "Lastly, let's take a look at the ABV outlier and understand it"
   ]
  },
  {
   "cell_type": "code",
   "execution_count": 33,
   "metadata": {},
   "outputs": [
    {
     "data": {
      "image/png": "[encoded data removed]",
      "text/plain": [
       "<Figure size 864x216 with 1 Axes>"
      ]
     },
     "metadata": {},
     "output_type": "display_data"
    }
   ],
   "source": [
    "fig, ax = plt.subplots(figsize=(12, 3))\n",
    "sns.boxplot(x=df['abv'], color=main_color, ax=ax)\n",
    "ax.set_xlabel('Value')\n",
    "ax.set_title('Boxplot, ABV')\n",
    "fig.subplots_adjust(bottom=0.2)\n",
    "plt.savefig('figures/boxplot_abv.png')"
   ]
  },
  {
   "cell_type": "code",
   "execution_count": 18,
   "metadata": {
    "collapsed": false,
    "pycharm": {
     "name": "#%%\n"
    }
   },
   "outputs": [
    {
     "data": {
      "text/html": [
       "<div>\n",
       "<style scoped>\n",
       "    .dataframe tbody tr th:only-of-type {\n",
       "        vertical-align: middle;\n",
       "    }\n",
       "\n",
       "    .dataframe tbody tr th {\n",
       "        vertical-align: top;\n",
       "    }\n",
       "\n",
       "    .dataframe thead th {\n",
       "        text-align: right;\n",
       "    }\n",
       "</style>\n",
       "<table border=\"1\" class=\"dataframe\">\n",
       "  <thead>\n",
       "    <tr style=\"text-align: right;\">\n",
       "      <th></th>\n",
       "      <th>abv</th>\n",
       "      <th>min_ibu</th>\n",
       "      <th>max_ibu</th>\n",
       "      <th>astringency</th>\n",
       "      <th>body</th>\n",
       "      <th>alcohol</th>\n",
       "      <th>bitter</th>\n",
       "      <th>sweet</th>\n",
       "      <th>sour</th>\n",
       "      <th>salty</th>\n",
       "      <th>...</th>\n",
       "      <th>beer_name_full</th>\n",
       "      <th>description</th>\n",
       "      <th>style</th>\n",
       "      <th>style_l2</th>\n",
       "      <th>review_aroma</th>\n",
       "      <th>review_taste</th>\n",
       "      <th>review_appearance</th>\n",
       "      <th>review_palate</th>\n",
       "      <th>review_overall</th>\n",
       "      <th>number_of_reviews</th>\n",
       "    </tr>\n",
       "  </thead>\n",
       "  <tbody>\n",
       "    <tr>\n",
       "      <th>297</th>\n",
       "      <td>30.86</td>\n",
       "      <td>25</td>\n",
       "      <td>35</td>\n",
       "      <td>4</td>\n",
       "      <td>5</td>\n",
       "      <td>14</td>\n",
       "      <td>2</td>\n",
       "      <td>16</td>\n",
       "      <td>6</td>\n",
       "      <td>0</td>\n",
       "      <td>...</td>\n",
       "      <td>Schorschbräu Schorschbock 31%</td>\n",
       "      <td>Notes:</td>\n",
       "      <td>Bock - Eisbock</td>\n",
       "      <td>Eisbock</td>\n",
       "      <td>4.000000</td>\n",
       "      <td>4.500000</td>\n",
       "      <td>4.000000</td>\n",
       "      <td>4.000000</td>\n",
       "      <td>3.500000</td>\n",
       "      <td>1</td>\n",
       "    </tr>\n",
       "    <tr>\n",
       "      <th>299</th>\n",
       "      <td>57.50</td>\n",
       "      <td>25</td>\n",
       "      <td>35</td>\n",
       "      <td>0</td>\n",
       "      <td>7</td>\n",
       "      <td>17</td>\n",
       "      <td>3</td>\n",
       "      <td>9</td>\n",
       "      <td>6</td>\n",
       "      <td>0</td>\n",
       "      <td>...</td>\n",
       "      <td>Schorschbräu Schorschbock 57%</td>\n",
       "      <td>Notes:</td>\n",
       "      <td>Bock - Eisbock</td>\n",
       "      <td>Eisbock</td>\n",
       "      <td>4.000000</td>\n",
       "      <td>3.500000</td>\n",
       "      <td>4.000000</td>\n",
       "      <td>4.000000</td>\n",
       "      <td>4.000000</td>\n",
       "      <td>1</td>\n",
       "    </tr>\n",
       "    <tr>\n",
       "      <th>2746</th>\n",
       "      <td>28.00</td>\n",
       "      <td>40</td>\n",
       "      <td>100</td>\n",
       "      <td>8</td>\n",
       "      <td>44</td>\n",
       "      <td>64</td>\n",
       "      <td>30</td>\n",
       "      <td>108</td>\n",
       "      <td>18</td>\n",
       "      <td>0</td>\n",
       "      <td>...</td>\n",
       "      <td>Boston Beer Company (Samuel Adams) Samuel Adam...</td>\n",
       "      <td>Notes:Truly the epitome of brewing's two thous...</td>\n",
       "      <td>Strong Ale - American</td>\n",
       "      <td>American</td>\n",
       "      <td>4.453521</td>\n",
       "      <td>4.467606</td>\n",
       "      <td>4.198592</td>\n",
       "      <td>4.246479</td>\n",
       "      <td>4.066197</td>\n",
       "      <td>355</td>\n",
       "    </tr>\n",
       "  </tbody>\n",
       "</table>\n",
       "<p>3 rows × 27 columns</p>\n",
       "</div>"
      ],
      "text/plain": [
       "        abv  min_ibu  max_ibu  astringency  body  alcohol  bitter  sweet  \\\n",
       "297   30.86       25       35            4     5       14       2     16   \n",
       "299   57.50       25       35            0     7       17       3      9   \n",
       "2746  28.00       40      100            8    44       64      30    108   \n",
       "\n",
       "      sour  salty  ...                                     beer_name_full  \\\n",
       "297      6      0  ...                      Schorschbräu Schorschbock 31%   \n",
       "299      6      0  ...                      Schorschbräu Schorschbock 57%   \n",
       "2746    18      0  ...  Boston Beer Company (Samuel Adams) Samuel Adam...   \n",
       "\n",
       "                                            description  \\\n",
       "297                                              Notes:   \n",
       "299                                              Notes:   \n",
       "2746  Notes:Truly the epitome of brewing's two thous...   \n",
       "\n",
       "                      style  style_l2 review_aroma review_taste  \\\n",
       "297          Bock - Eisbock   Eisbock     4.000000     4.500000   \n",
       "299          Bock - Eisbock   Eisbock     4.000000     3.500000   \n",
       "2746  Strong Ale - American  American     4.453521     4.467606   \n",
       "\n",
       "     review_appearance review_palate review_overall number_of_reviews  \n",
       "297           4.000000      4.000000       3.500000                 1  \n",
       "299           4.000000      4.000000       4.000000                 1  \n",
       "2746          4.198592      4.246479       4.066197               355  \n",
       "\n",
       "[3 rows x 27 columns]"
      ]
     },
     "execution_count": 18,
     "metadata": {},
     "output_type": "execute_result"
    }
   ],
   "source": [
    "df[df['abv'] > 20].join(df_meta)"
   ]
  },
  {
   "cell_type": "markdown",
   "metadata": {
    "collapsed": false,
    "pycharm": {
     "name": "#%% md\n"
    }
   },
   "source": [
    "After doing some research, these are super-unique beers that are brewed to be extremely strong. We could theoretically assign them their own category, but with only three observations, for the sake of simplicity, let's remove them."
   ]
  },
  {
   "cell_type": "markdown",
   "metadata": {
    "collapsed": false,
    "pycharm": {
     "name": "#%% md\n"
    }
   },
   "source": [
    "## Transform the response\n",
    "Last, we'll transform the response into a pandas 'Categorical' type to better feed some of the scikit-learn estimators."
   ]
  },
  {
   "cell_type": "code",
   "execution_count": 19,
   "metadata": {
    "collapsed": false,
    "pycharm": {
     "name": "#%%\n"
    }
   },
   "outputs": [],
   "source": [
    "df = df[df['abv'] < 30]"
   ]
  },
  {
   "cell_type": "code",
   "execution_count": 20,
   "metadata": {
    "collapsed": false,
    "pycharm": {
     "name": "#%%\n"
    }
   },
   "outputs": [],
   "source": [
    "df['style_l1'] = df['style_l1'].astype(\"category\")"
   ]
  },
  {
   "cell_type": "markdown",
   "metadata": {
    "collapsed": false,
    "pycharm": {
     "name": "#%% md\n"
    }
   },
   "source": [
    "# Write out files"
   ]
  },
  {
   "cell_type": "code",
   "execution_count": 21,
   "metadata": {
    "collapsed": false,
    "pycharm": {
     "name": "#%%\n"
    }
   },
   "outputs": [],
   "source": [
    "df.to_parquet('data/processed/df_processed')"
   ]
  },
  {
   "cell_type": "code",
   "execution_count": 22,
   "metadata": {
    "collapsed": false,
    "pycharm": {
     "name": "#%%\n"
    }
   },
   "outputs": [],
   "source": [
    "df_meta.to_parquet('data/processed/df_meta')"
   ]
  }
 ],
 "metadata": {
  "kernelspec": {
   "display_name": "Python 3.10.4 ('beerclass')",
   "language": "python",
   "name": "python3"
  },
  "language_info": {
   "codemirror_mode": {
    "name": "ipython",
    "version": 3
   },
   "file_extension": ".py",
   "mimetype": "text/x-python",
   "name": "python",
   "nbconvert_exporter": "python",
   "pygments_lexer": "ipython3",
   "version": "3.10.4"
  },
  "vscode": {
   "interpreter": {
    "hash": "7bdcd7c69c3c4b5a1f300da0feddb10128a8679a169f985b1f3f7b3c04a6bebf"
   }
  }
 },
 "nbformat": 4,
 "nbformat_minor": 0
}
